{
    "metadata": {
        "kernelspec": {
            "name": "SQL",
            "display_name": "SQL",
            "language": "sql"
        },
        "language_info": {
            "name": "sql",
            "version": ""
        }
    },
    "nbformat_minor": 2,
    "nbformat": 4,
    "cells": [
        {
            "cell_type": "code",
            "source": [
                "USE master;\n",
                "CREATE DATABASE q10;\n",
                "GO"
            ],
            "metadata": {
                "azdata_cell_guid": "a143869a-3354-47ae-95f0-0513f58cc202",
                "language": "sql",
                "tags": [
                    "hide_input"
                ]
            },
            "outputs": [],
            "execution_count": null
        },
        {
            "cell_type": "code",
            "source": [
                "USE q10;"
            ],
            "metadata": {
                "language": "sql",
                "azdata_cell_guid": "c4f6ea28-2109-424d-af60-99b3bdcf1572"
            },
            "outputs": [],
            "execution_count": null
        },
        {
            "cell_type": "code",
            "source": [
                "CREATE TABLE [Node]\n",
                "(\n",
                "    [nid] INT NOT NULL PRIMARY KEY, -- Primary Key column\n",
                "    [name] NVARCHAR(50),\n",
                "    [color] NVARCHAR(50),\n",
                "    [description] NVARCHAR(50),\n",
                ");\n",
                ""
            ],
            "metadata": {
                "language": "sql",
                "azdata_cell_guid": "10c8c684-623c-4674-b75b-d525082224c8"
            },
            "outputs": [
                {
                    "output_type": "display_data",
                    "data": {
                        "text/html": "Commands completed successfully."
                    },
                    "metadata": {}
                },
                {
                    "output_type": "display_data",
                    "data": {
                        "text/html": "Total execution time: 00:00:00.037"
                    },
                    "metadata": {}
                }
            ],
            "execution_count": 3
        },
        {
            "cell_type": "code",
            "source": [
                "CREATE TABLE [Edge]\n",
                "(\n",
                "    [nid1] INT NOT NULL FOREIGN KEY REFERENCES Node(nid),\n",
                "    [nid2] INT NOT NULL FOREIGN KEY REFERENCES Node(nid),\n",
                "    [edge_type] NVARCHAR(50),\n",
                ");\n",
                ""
            ],
            "metadata": {
                "language": "sql",
                "azdata_cell_guid": "872309f2-4a11-46bd-b7f5-f357027629fa"
            },
            "outputs": [
                {
                    "output_type": "display_data",
                    "data": {
                        "text/html": "Commands completed successfully."
                    },
                    "metadata": {}
                },
                {
                    "output_type": "display_data",
                    "data": {
                        "text/html": "Total execution time: 00:00:00.069"
                    },
                    "metadata": {}
                }
            ],
            "execution_count": 6
        },
        {
            "cell_type": "code",
            "source": [
                "INSERT INTO [Node]\n",
                "( [nid] )\n",
                "VALUES\n",
                "(1),\n",
                "(2),\n",
                "(3),\n",
                "(4),\n",
                "(5)\n",
                "GO"
            ],
            "metadata": {
                "language": "sql",
                "azdata_cell_guid": "f8e1e9ce-fd86-4fd6-a343-7f68a2ac928c",
                "tags": []
            },
            "outputs": [
                {
                    "output_type": "display_data",
                    "data": {
                        "text/html": "(5 rows affected)"
                    },
                    "metadata": {}
                },
                {
                    "output_type": "display_data",
                    "data": {
                        "text/html": "Total execution time: 00:00:00.055"
                    },
                    "metadata": {}
                }
            ],
            "execution_count": 4
        },
        {
            "cell_type": "code",
            "source": [
                "INSERT INTO [Edge]\n",
                "( [nid1], [nid2] )\n",
                "VALUES\n",
                "(1, 2),\n",
                "(1, 3),\n",
                "(2, 1),\n",
                "(3, 2),\n",
                "(2, 3),\n",
                "(1, 4),\n",
                "(5, 2)\n",
                "GO"
            ],
            "metadata": {
                "language": "sql",
                "azdata_cell_guid": "acabfb9a-b4db-499f-9bbd-48dae3482cae"
            },
            "outputs": [
                {
                    "output_type": "display_data",
                    "data": {
                        "text/html": "(7 rows affected)"
                    },
                    "metadata": {}
                },
                {
                    "output_type": "display_data",
                    "data": {
                        "text/html": "Total execution time: 00:00:00.051"
                    },
                    "metadata": {}
                }
            ],
            "execution_count": 7
        },
        {
            "cell_type": "code",
            "source": [
                "SELECT * FROM [Node];\n",
                "SELECT * FROM [Edge];"
            ],
            "metadata": {
                "language": "sql",
                "azdata_cell_guid": "3c0d52e7-e22a-47ad-b7c3-a4a37ac3fb43"
            },
            "outputs": [
                {
                    "output_type": "display_data",
                    "data": {
                        "text/html": "(5 rows affected)"
                    },
                    "metadata": {}
                },
                {
                    "output_type": "display_data",
                    "data": {
                        "text/html": "(7 rows affected)"
                    },
                    "metadata": {}
                },
                {
                    "output_type": "display_data",
                    "data": {
                        "text/html": "Total execution time: 00:00:00.047"
                    },
                    "metadata": {}
                },
                {
                    "output_type": "execute_result",
                    "execution_count": 10,
                    "data": {
                        "application/vnd.dataresource+json": {
                            "schema": {
                                "fields": [
                                    {
                                        "name": "nid"
                                    },
                                    {
                                        "name": "name"
                                    },
                                    {
                                        "name": "color"
                                    },
                                    {
                                        "name": "description"
                                    }
                                ]
                            },
                            "data": [
                                {
                                    "0": "1",
                                    "1": "NULL",
                                    "2": "NULL",
                                    "3": "NULL"
                                },
                                {
                                    "0": "2",
                                    "1": "NULL",
                                    "2": "NULL",
                                    "3": "NULL"
                                },
                                {
                                    "0": "3",
                                    "1": "NULL",
                                    "2": "NULL",
                                    "3": "NULL"
                                },
                                {
                                    "0": "4",
                                    "1": "NULL",
                                    "2": "NULL",
                                    "3": "NULL"
                                },
                                {
                                    "0": "5",
                                    "1": "NULL",
                                    "2": "NULL",
                                    "3": "NULL"
                                }
                            ]
                        },
                        "text/html": "<table><tr><th>nid</th><th>name</th><th>color</th><th>description</th></tr><tr><td>1</td><td>NULL</td><td>NULL</td><td>NULL</td></tr><tr><td>2</td><td>NULL</td><td>NULL</td><td>NULL</td></tr><tr><td>3</td><td>NULL</td><td>NULL</td><td>NULL</td></tr><tr><td>4</td><td>NULL</td><td>NULL</td><td>NULL</td></tr><tr><td>5</td><td>NULL</td><td>NULL</td><td>NULL</td></tr></table>"
                    },
                    "metadata": {}
                },
                {
                    "output_type": "execute_result",
                    "execution_count": 10,
                    "data": {
                        "application/vnd.dataresource+json": {
                            "schema": {
                                "fields": [
                                    {
                                        "name": "nid1"
                                    },
                                    {
                                        "name": "nid2"
                                    },
                                    {
                                        "name": "edge_type"
                                    }
                                ]
                            },
                            "data": [
                                {
                                    "0": "1",
                                    "1": "2",
                                    "2": "NULL"
                                },
                                {
                                    "0": "1",
                                    "1": "3",
                                    "2": "NULL"
                                },
                                {
                                    "0": "2",
                                    "1": "1",
                                    "2": "NULL"
                                },
                                {
                                    "0": "3",
                                    "1": "2",
                                    "2": "NULL"
                                },
                                {
                                    "0": "2",
                                    "1": "3",
                                    "2": "NULL"
                                },
                                {
                                    "0": "1",
                                    "1": "4",
                                    "2": "NULL"
                                },
                                {
                                    "0": "5",
                                    "1": "2",
                                    "2": "NULL"
                                }
                            ]
                        },
                        "text/html": "<table><tr><th>nid1</th><th>nid2</th><th>edge_type</th></tr><tr><td>1</td><td>2</td><td>NULL</td></tr><tr><td>1</td><td>3</td><td>NULL</td></tr><tr><td>2</td><td>1</td><td>NULL</td></tr><tr><td>3</td><td>2</td><td>NULL</td></tr><tr><td>2</td><td>3</td><td>NULL</td></tr><tr><td>1</td><td>4</td><td>NULL</td></tr><tr><td>5</td><td>2</td><td>NULL</td></tr></table>"
                    },
                    "metadata": {}
                }
            ],
            "execution_count": 10
        },
        {
            "cell_type": "code",
            "source": [
                "SELECT nid, COUNT(nid1) as cnt_out\n",
                "From Node LEFT OUTER JOIN Edge ON Edge.nid1 = nid\n",
                "GROUP BY nid;\n",
                "GO\n",
                "\n",
                "SELECT nid, COUNT(nid2) as cnt_in\n",
                "From Node LEFT OUTER JOIN Edge ON Edge.nid2 = nid\n",
                "GROUP BY nid;\n",
                "GO\n",
                "\n",
                "SELECT nid\n",
                "FROM Node n\n",
                "WHERE (\n",
                "    SELECT COUNT(nid2)\n",
                "    From Node LEFT OUTER JOIN Edge ON Edge.nid2 = nid\n",
                "    WHERE nid = n.nid\n",
                "    GROUP BY nid\n",
                ") < (\n",
                "    SELECT COUNT(nid1)\n",
                "    From Node LEFT OUTER JOIN Edge ON Edge.nid1 = nid\n",
                "    WHERE nid = n.nid\n",
                "    GROUP BY nid\n",
                ")\n",
                "GO"
            ],
            "metadata": {
                "language": "sql",
                "azdata_cell_guid": "df1b6f38-b083-42b8-8bab-5ae6b99f2685"
            },
            "outputs": [
                {
                    "output_type": "display_data",
                    "data": {
                        "text/html": "(5 rows affected)"
                    },
                    "metadata": {}
                },
                {
                    "output_type": "display_data",
                    "data": {
                        "text/html": "(5 rows affected)"
                    },
                    "metadata": {}
                },
                {
                    "output_type": "display_data",
                    "data": {
                        "text/html": "Warning: Null value is eliminated by an aggregate or other SET operation."
                    },
                    "metadata": {}
                },
                {
                    "output_type": "display_data",
                    "data": {
                        "text/html": "(2 rows affected)"
                    },
                    "metadata": {}
                },
                {
                    "output_type": "display_data",
                    "data": {
                        "text/html": "Total execution time: 00:00:00.086"
                    },
                    "metadata": {}
                },
                {
                    "output_type": "execute_result",
                    "execution_count": 34,
                    "data": {
                        "application/vnd.dataresource+json": {
                            "schema": {
                                "fields": [
                                    {
                                        "name": "nid"
                                    },
                                    {
                                        "name": "cnt_out"
                                    }
                                ]
                            },
                            "data": [
                                {
                                    "0": "1",
                                    "1": "3"
                                },
                                {
                                    "0": "2",
                                    "1": "2"
                                },
                                {
                                    "0": "3",
                                    "1": "1"
                                },
                                {
                                    "0": "4",
                                    "1": "0"
                                },
                                {
                                    "0": "5",
                                    "1": "1"
                                }
                            ]
                        },
                        "text/html": "<table><tr><th>nid</th><th>cnt_out</th></tr><tr><td>1</td><td>3</td></tr><tr><td>2</td><td>2</td></tr><tr><td>3</td><td>1</td></tr><tr><td>4</td><td>0</td></tr><tr><td>5</td><td>1</td></tr></table>"
                    },
                    "metadata": {}
                },
                {
                    "output_type": "execute_result",
                    "execution_count": 34,
                    "data": {
                        "application/vnd.dataresource+json": {
                            "schema": {
                                "fields": [
                                    {
                                        "name": "nid"
                                    },
                                    {
                                        "name": "cnt_in"
                                    }
                                ]
                            },
                            "data": [
                                {
                                    "0": "1",
                                    "1": "1"
                                },
                                {
                                    "0": "2",
                                    "1": "3"
                                },
                                {
                                    "0": "3",
                                    "1": "2"
                                },
                                {
                                    "0": "4",
                                    "1": "1"
                                },
                                {
                                    "0": "5",
                                    "1": "0"
                                }
                            ]
                        },
                        "text/html": "<table><tr><th>nid</th><th>cnt_in</th></tr><tr><td>1</td><td>1</td></tr><tr><td>2</td><td>3</td></tr><tr><td>3</td><td>2</td></tr><tr><td>4</td><td>1</td></tr><tr><td>5</td><td>0</td></tr></table>"
                    },
                    "metadata": {}
                },
                {
                    "output_type": "execute_result",
                    "execution_count": 34,
                    "data": {
                        "application/vnd.dataresource+json": {
                            "schema": {
                                "fields": [
                                    {
                                        "name": "nid"
                                    }
                                ]
                            },
                            "data": [
                                {
                                    "0": "1"
                                },
                                {
                                    "0": "5"
                                }
                            ]
                        },
                        "text/html": "<table><tr><th>nid</th></tr><tr><td>1</td></tr><tr><td>5</td></tr></table>"
                    },
                    "metadata": {}
                }
            ],
            "execution_count": 34
        },
        {
            "cell_type": "code",
            "source": [
                "SELECT * \n",
                "From (\n",
                "    SELECT nid1, COUNT(*) cnt, sum(nid2)\n",
                "    FROM Edge\n",
                "    GROUP BY nid1\n",
                ") T;"
            ],
            "metadata": {
                "language": "sql",
                "azdata_cell_guid": "70ebbce7-0749-4cc5-a723-09891957bcb4"
            },
            "outputs": [
                {
                    "output_type": "error",
                    "ename": "",
                    "evalue": "Msg 8155, Level 16, State 2, Line 6\nNo column name was specified for column 3 of 'T'.",
                    "traceback": []
                },
                {
                    "output_type": "display_data",
                    "data": {
                        "text/html": "Total execution time: 00:00:00.011"
                    },
                    "metadata": {}
                }
            ],
            "execution_count": 39
        },
        {
            "cell_type": "code",
            "source": [
                "-- WRONG:\n",
                "SELECT nid\n",
                "FROM Node\n",
                "WHERE (\n",
                "    SELECT COUNT(*)\n",
                "    FROM Edge\n",
                "    WHERE nid1 = nid\n",
                "    GROUP BY nid1\n",
                ") < (\n",
                "    SELECT COUNT(*)\n",
                "    FROM Edge\n",
                "    WHERE nid2 = nid\n",
                "    GROUP BY nid2\n",
                ")"
            ],
            "metadata": {
                "language": "sql",
                "azdata_cell_guid": "9cad60d4-a7c8-47f2-bbc2-3bcf961026fe"
            },
            "outputs": [],
            "execution_count": null
        }
    ]
}