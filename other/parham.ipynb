{
    "metadata": {
        "kernelspec": {
            "name": "SQL",
            "display_name": "SQL",
            "language": "sql"
        },
        "language_info": {
            "name": "sql",
            "version": ""
        }
    },
    "nbformat_minor": 2,
    "nbformat": 4,
    "cells": [
        {
            "cell_type": "code",
            "source": [
                "-- Drop the database 'NewDb'\n",
                "-- Connect to the 'master' database to run this snippet\n",
                "USE master\n",
                "GO\n",
                "-- Uncomment the ALTER DATABASE statement below to set the database to SINGLE_USER mode if the drop database command fails because the database is in use.\n",
                "ALTER DATABASE NewDb SET SINGLE_USER WITH ROLLBACK IMMEDIATE;\n",
                "-- Drop the database if it exists\n",
                "IF EXISTS (\n",
                "    SELECT [name]\n",
                "        FROM sys.databases\n",
                "        WHERE [name] = N'NewDb'\n",
                ")\n",
                "DROP DATABASE NewDb\n",
                "GO"
            ],
            "metadata": {
                "azdata_cell_guid": "cb22a846-c42c-44a9-ad1b-ad5f4f0c46b0",
                "language": "sql",
                "tags": []
            },
            "outputs": [
                {
                    "output_type": "display_data",
                    "data": {
                        "text/html": "Commands completed successfully."
                    },
                    "metadata": {}
                },
                {
                    "output_type": "display_data",
                    "data": {
                        "text/html": "Nonqualified transactions are being rolled back. Estimated rollback completion: 0%."
                    },
                    "metadata": {}
                },
                {
                    "output_type": "display_data",
                    "data": {
                        "text/html": "Nonqualified transactions are being rolled back. Estimated rollback completion: 100%."
                    },
                    "metadata": {}
                },
                {
                    "output_type": "display_data",
                    "data": {
                        "text/html": "Total execution time: 00:00:03.339"
                    },
                    "metadata": {}
                }
            ],
            "execution_count": 4
        },
        {
            "cell_type": "code",
            "source": [
                "-- Create a new database called 'db1'\n",
                "-- Connect to the 'master' database to run this snippet\n",
                "USE master\n",
                "GO\n",
                "-- Create the new database if it does not exist already\n",
                "IF NOT EXISTS (\n",
                "    SELECT [name]\n",
                "        FROM sys.databases\n",
                "        WHERE [name] = N'db1'\n",
                ")\n",
                "CREATE DATABASE db1\n",
                "GO"
            ],
            "metadata": {
                "azdata_cell_guid": "4edfbec6-6710-42a6-9546-273f77f38baf",
                "language": "sql",
                "tags": []
            },
            "outputs": [
                {
                    "output_type": "display_data",
                    "data": {
                        "text/html": "Commands completed successfully."
                    },
                    "metadata": {}
                },
                {
                    "output_type": "display_data",
                    "data": {
                        "text/html": "Commands completed successfully."
                    },
                    "metadata": {}
                },
                {
                    "output_type": "display_data",
                    "data": {
                        "text/html": "Total execution time: 00:00:00.586"
                    },
                    "metadata": {}
                }
            ],
            "execution_count": 5
        },
        {
            "cell_type": "code",
            "source": [
                "USE db1\n",
                "GO"
            ],
            "metadata": {
                "language": "sql",
                "azdata_cell_guid": "897378d2-6243-48bd-a6d3-5246b4c166d4",
                "tags": []
            },
            "outputs": [
                {
                    "output_type": "display_data",
                    "data": {
                        "text/html": "Commands completed successfully."
                    },
                    "metadata": {}
                },
                {
                    "output_type": "display_data",
                    "data": {
                        "text/html": "Total execution time: 00:00:00.012"
                    },
                    "metadata": {}
                }
            ],
            "execution_count": 8
        },
        {
            "cell_type": "code",
            "source": [
                "CREATE TABLE [Supplier]\n",
                "(\n",
                "    [id] INT NOT NULL IDENTITY(1,1) PRIMARY KEY, -- Primary Key column\n",
                "    [sid] INT NOT NULL,\n",
                "    [pid] INT NOT NULL,\n",
                "    [sdate] NVARCHAR(50) NOT NULL\n",
                "    -- Specify more columns here\n",
                ");\n",
                "GO"
            ],
            "metadata": {
                "language": "sql",
                "azdata_cell_guid": "63cbaca0-590c-4954-a889-fafcda054756",
                "tags": []
            },
            "outputs": [
                {
                    "output_type": "display_data",
                    "data": {
                        "text/html": "Commands completed successfully."
                    },
                    "metadata": {}
                },
                {
                    "output_type": "display_data",
                    "data": {
                        "text/html": "Total execution time: 00:00:00.054"
                    },
                    "metadata": {}
                }
            ],
            "execution_count": 16
        },
        {
            "cell_type": "code",
            "source": [
                "-- Insert rows into table 'Supplier' in schema '[db1]'\n",
                "INSERT INTO [Supplier]\n",
                "( -- Columns to insert data into\n",
                " [sid], [pid], [sdate]\n",
                ")\n",
                "VALUES\n",
                "(1, 10, '1401-10-10'),\n",
                "(1, 10, '1401-10-11'),\n",
                "(1, 10, '1401-10-12'),\n",
                "(1, 10, '1401-10-13'),\n",
                "(1, 10, '1401-10-14'),\n",
                "(1, 10, '1401-10-15'),\n",
                "(1, 10, '1401-10-16'),\n",
                "(1, 10, '1401-10-17'),\n",
                "(1, 20, '1401-10-20'),\n",
                "(1, 20, '1401-10-20'),\n",
                "(1, 20, '1401-10-20'),\n",
                "(1, 20, '1401-10-20'),\n",
                "(2, 10, '1401-10-20'),\n",
                "(2, 10, '1401-10-20'),\n",
                "(2, 10, '1401-10-20'),\n",
                "(2, 30, '1401-10-20'),\n",
                "(2, 30, '1401-10-20'),\n",
                "(2, 30, '1401-10-20'),\n",
                "(3, 20, '1401-10-20'),\n",
                "(3, 20, '1401-10-20'),\n",
                "(3, 20, '1401-10-20'),\n",
                "(3, 20, '1401-10-20')\n",
                "GO"
            ],
            "metadata": {
                "language": "sql",
                "azdata_cell_guid": "10775dc1-5034-4508-93db-bf644efa39fb",
                "tags": []
            },
            "outputs": [
                {
                    "output_type": "display_data",
                    "data": {
                        "text/html": "(22 rows affected)"
                    },
                    "metadata": {}
                },
                {
                    "output_type": "display_data",
                    "data": {
                        "text/html": "Total execution time: 00:00:00.048"
                    },
                    "metadata": {}
                }
            ],
            "execution_count": 18
        },
        {
            "cell_type": "code",
            "source": [
                "SELECT sid, AVG(LEN(sdate)), COUNT(*)\n",
                "FROM [Supplier]\n",
                "GROUP BY sid, pid\n",
                "HAVING COUNT(*) > 3\n",
                "GO"
            ],
            "metadata": {
                "azdata_cell_guid": "e228ebdc-2b32-4f84-960f-60501990ecde",
                "language": "sql",
                "tags": []
            },
            "outputs": [
                {
                    "output_type": "display_data",
                    "data": {
                        "text/html": "(3 rows affected)"
                    },
                    "metadata": {}
                },
                {
                    "output_type": "display_data",
                    "data": {
                        "text/html": "Total execution time: 00:00:00.013"
                    },
                    "metadata": {}
                },
                {
                    "output_type": "execute_result",
                    "execution_count": 29,
                    "data": {
                        "application/vnd.dataresource+json": {
                            "schema": {
                                "fields": [
                                    {
                                        "name": "sid"
                                    },
                                    {
                                        "name": "(No column name)"
                                    },
                                    {
                                        "name": "(No column name)"
                                    }
                                ]
                            },
                            "data": [
                                {
                                    "0": "1",
                                    "1": "10",
                                    "2": "9"
                                },
                                {
                                    "0": "1",
                                    "1": "10",
                                    "2": "5"
                                },
                                {
                                    "0": "3",
                                    "1": "10",
                                    "2": "4"
                                }
                            ]
                        },
                        "text/html": "<table><tr><th>sid</th><th>(No column name)</th><th>(No column name)</th></tr><tr><td>1</td><td>10</td><td>9</td></tr><tr><td>1</td><td>10</td><td>5</td></tr><tr><td>3</td><td>10</td><td>4</td></tr></table>"
                    },
                    "metadata": {}
                }
            ],
            "execution_count": 29
        },
        {
            "cell_type": "code",
            "source": [
                "-- Drop a table called 'Supplier' in schema 'db1'\n",
                "-- Drop the table if it already exists\n",
                "-- IF OBJECT_ID('[db1].[Supplier]', 'U') IS NOT NULL\n",
                "DROP TABLE [Supplier]\n",
                "GO"
            ],
            "metadata": {
                "language": "sql",
                "azdata_cell_guid": "ffea7b6c-e8e3-4603-a076-f2133117a72e",
                "tags": []
            },
            "outputs": [
                {
                    "output_type": "display_data",
                    "data": {
                        "text/html": "Commands completed successfully."
                    },
                    "metadata": {}
                },
                {
                    "output_type": "display_data",
                    "data": {
                        "text/html": "Total execution time: 00:00:00.047"
                    },
                    "metadata": {}
                }
            ],
            "execution_count": 15
        },
        {
            "cell_type": "code",
            "source": [
                "USE master\n",
                "GO\n",
                "CREATE DATABASE dbParham;\n",
                "GO"
            ],
            "metadata": {
                "language": "sql",
                "azdata_cell_guid": "0cf1dec6-3299-4dff-b79c-15d9b63c8027",
                "tags": []
            },
            "outputs": [
                {
                    "output_type": "display_data",
                    "data": {
                        "text/html": "Commands completed successfully."
                    },
                    "metadata": {}
                },
                {
                    "output_type": "display_data",
                    "data": {
                        "text/html": "Commands completed successfully."
                    },
                    "metadata": {}
                },
                {
                    "output_type": "display_data",
                    "data": {
                        "text/html": "Total execution time: 00:00:00.595"
                    },
                    "metadata": {}
                }
            ],
            "execution_count": 30
        },
        {
            "cell_type": "code",
            "source": [
                "USE dbParham;\n",
                "GO"
            ],
            "metadata": {
                "language": "sql",
                "azdata_cell_guid": "2ebe5dbd-6328-44bb-ba6c-3d07ffea0627",
                "tags": []
            },
            "outputs": [
                {
                    "output_type": "display_data",
                    "data": {
                        "text/html": "Commands completed successfully."
                    },
                    "metadata": {}
                },
                {
                    "output_type": "display_data",
                    "data": {
                        "text/html": "Total execution time: 00:00:00.012"
                    },
                    "metadata": {}
                }
            ],
            "execution_count": 31
        },
        {
            "cell_type": "code",
            "source": [
                "CREATE TABLE [Supplier]\n",
                "(\n",
                "    [sr#] INT NOT NULL PRIMARY KEY, -- Primary Key column\n",
                "    [sr_name] NVARCHAR(50) NOT NULL,\n",
                "    [sr_city] NVARCHAR(50) NOT NULL,\n",
                ");\n",
                "GO\n",
                "CREATE TABLE [Product]\n",
                "(\n",
                "    [p#] INT NOT NULL PRIMARY KEY, -- Primary Key column\n",
                "    [p_name] NVARCHAR(50) NOT NULL,\n",
                "    [price] INT NOT NULL,\n",
                "    [status] NVARCHAR(50) NOT NULL,\n",
                ");\n",
                "GO\n",
                "CREATE TABLE [Customer]\n",
                "(\n",
                "    [c#] INT NOT NULL PRIMARY KEY, -- Primary Key column\n",
                "    [c_name] NVARCHAR(50) NOT NULL,\n",
                "    [c_city] NVARCHAR(50) NOT NULL,\n",
                "    [c_street] NVARCHAR(50) NOT NULL,\n",
                ");\n",
                "GO\n",
                "CREATE TABLE [Sales]\n",
                "(\n",
                "    [s#] INT NOT NULL PRIMARY KEY, -- Primary Key column\n",
                "    [c#] INT NOT NULL FOREIGN KEY REFERENCES Customer(c#),\n",
                "    [p#] INT NOT NULL FOREIGN KEY REFERENCES Product(p#),\n",
                "    [sr#] INT NOT NULL FOREIGN KEY REFERENCES Supplier(sr#),\n",
                "    [date] NVARCHAR(10) NOT NULL,\n",
                "    [amount] INT NOT NULL,\n",
                ");\n",
                "GO\n",
                ""
            ],
            "metadata": {
                "language": "sql",
                "azdata_cell_guid": "1c077c71-d642-4ab4-84b7-f6ae98d06d97",
                "tags": []
            },
            "outputs": [
                {
                    "output_type": "display_data",
                    "data": {
                        "text/html": "Commands completed successfully."
                    },
                    "metadata": {}
                },
                {
                    "output_type": "display_data",
                    "data": {
                        "text/html": "Commands completed successfully."
                    },
                    "metadata": {}
                },
                {
                    "output_type": "display_data",
                    "data": {
                        "text/html": "Commands completed successfully."
                    },
                    "metadata": {}
                },
                {
                    "output_type": "display_data",
                    "data": {
                        "text/html": "Commands completed successfully."
                    },
                    "metadata": {}
                },
                {
                    "output_type": "display_data",
                    "data": {
                        "text/html": "Total execution time: 00:00:00.111"
                    },
                    "metadata": {}
                }
            ],
            "execution_count": 32
        },
        {
            "cell_type": "code",
            "source": [
                "INSERT INTO [Supplier]\n",
                "( [sr#], [sr_name], [sr_city] )\n",
                "VALUES\n",
                "(1, 'A', 'Tehran'),\n",
                "(2, 'B', 'Mashad'),\n",
                "(3, 'LG', 'England'),\n",
                "(4, 'SONY', 'Tokyo')\n",
                "GO\n",
                "\n",
                "INSERT INTO [Product]\n",
                "( [p#], [p_name], [price], [status])\n",
                "VALUES\n",
                "(10, 'ketab', 1500, 'available'),\n",
                "(20, 'qalam', 2500, 'available'),\n",
                "(30, 'monitor', 4000, 'available'),\n",
                "(40, 'LCD', 5000, 'available'),\n",
                "(50, 'TV', 10000, 'available')\n",
                "GO\n",
                "\n",
                "INSERT INTO [Customer]\n",
                "( [c#], [c_name], [c_city], [c_street])\n",
                "VALUES\n",
                "(100, 'Ali', 'Tehran', 'engelab'),\n",
                "(200, 'Parham', 'Qom', 'azadi')\n",
                "GO\n",
                "\n",
                "INSERT INTO [Sales]\n",
                "( [s#], [c#], [p#], [sr#], [date], [amount])\n",
                "VALUES\n",
                "(1, 100, 10, 1, '1401-02-01', 4),\n",
                "(2, 100, 40, 3, '1401-02-01', 1),\n",
                "(3, 200, 40, 3, '1401-02-01', 10),\n",
                "(4, 100, 50, 3, '1401-02-01', 4)\n",
                "GO"
            ],
            "metadata": {
                "language": "sql",
                "azdata_cell_guid": "f8a4bb72-ed85-43d1-962a-96f9bde64343",
                "tags": []
            },
            "outputs": [
                {
                    "output_type": "display_data",
                    "data": {
                        "text/html": "(4 rows affected)"
                    },
                    "metadata": {}
                },
                {
                    "output_type": "display_data",
                    "data": {
                        "text/html": "(5 rows affected)"
                    },
                    "metadata": {}
                },
                {
                    "output_type": "display_data",
                    "data": {
                        "text/html": "(2 rows affected)"
                    },
                    "metadata": {}
                },
                {
                    "output_type": "display_data",
                    "data": {
                        "text/html": "(4 rows affected)"
                    },
                    "metadata": {}
                },
                {
                    "output_type": "display_data",
                    "data": {
                        "text/html": "Total execution time: 00:00:00.107"
                    },
                    "metadata": {}
                }
            ],
            "execution_count": 33
        },
        {
            "cell_type": "code",
            "source": [
                "INSERT INTO [Sales]\n",
                "( [s#], [c#], [p#], [sr#], [date], [amount])\n",
                "VALUES\n",
                "(5, 100, 40, 3, '1401-02-01', 1),\n",
                "(6, 200, 40, 3, '1401-02-01', 10),\n",
                "(7, 100, 50, 3, '1401-02-01', 4)\n",
                "GO"
            ],
            "metadata": {
                "language": "sql",
                "azdata_cell_guid": "80facbff-dda9-4fd4-89a3-7207ff0d9475",
                "tags": []
            },
            "outputs": [
                {
                    "output_type": "display_data",
                    "data": {
                        "text/html": "(3 rows affected)"
                    },
                    "metadata": {}
                },
                {
                    "output_type": "display_data",
                    "data": {
                        "text/html": "Total execution time: 00:00:00.053"
                    },
                    "metadata": {}
                }
            ],
            "execution_count": 46
        },
        {
            "cell_type": "code",
            "source": [
                "SELECT * FROM Sales;\n",
                "SELECT * FROM Customer;\n",
                "SELECT * FROM Product;\n",
                "SELECT * FROM Supplier;\n",
                "\n",
                ""
            ],
            "metadata": {
                "language": "sql",
                "azdata_cell_guid": "3899c60d-e970-44ec-bf00-652843abfad7",
                "tags": []
            },
            "outputs": [
                {
                    "output_type": "display_data",
                    "data": {
                        "text/html": "(7 rows affected)"
                    },
                    "metadata": {}
                },
                {
                    "output_type": "display_data",
                    "data": {
                        "text/html": "(2 rows affected)"
                    },
                    "metadata": {}
                },
                {
                    "output_type": "display_data",
                    "data": {
                        "text/html": "(5 rows affected)"
                    },
                    "metadata": {}
                },
                {
                    "output_type": "display_data",
                    "data": {
                        "text/html": "(4 rows affected)"
                    },
                    "metadata": {}
                },
                {
                    "output_type": "display_data",
                    "data": {
                        "text/html": "Total execution time: 00:00:00.039"
                    },
                    "metadata": {}
                },
                {
                    "output_type": "execute_result",
                    "execution_count": 49,
                    "data": {
                        "application/vnd.dataresource+json": {
                            "schema": {
                                "fields": [
                                    {
                                        "name": "s#"
                                    },
                                    {
                                        "name": "c#"
                                    },
                                    {
                                        "name": "p#"
                                    },
                                    {
                                        "name": "sr#"
                                    },
                                    {
                                        "name": "date"
                                    },
                                    {
                                        "name": "amount"
                                    }
                                ]
                            },
                            "data": [
                                {
                                    "0": "1",
                                    "1": "100",
                                    "2": "10",
                                    "3": "1",
                                    "4": "1401-02-01",
                                    "5": "4"
                                },
                                {
                                    "0": "2",
                                    "1": "100",
                                    "2": "40",
                                    "3": "4",
                                    "4": "1401-02-01",
                                    "5": "1"
                                },
                                {
                                    "0": "3",
                                    "1": "200",
                                    "2": "40",
                                    "3": "4",
                                    "4": "1401-02-01",
                                    "5": "10"
                                },
                                {
                                    "0": "4",
                                    "1": "100",
                                    "2": "50",
                                    "3": "4",
                                    "4": "1401-02-01",
                                    "5": "4"
                                },
                                {
                                    "0": "5",
                                    "1": "100",
                                    "2": "40",
                                    "3": "3",
                                    "4": "1401-02-01",
                                    "5": "1"
                                },
                                {
                                    "0": "6",
                                    "1": "200",
                                    "2": "40",
                                    "3": "3",
                                    "4": "1401-02-01",
                                    "5": "10"
                                },
                                {
                                    "0": "7",
                                    "1": "100",
                                    "2": "50",
                                    "3": "3",
                                    "4": "1401-02-01",
                                    "5": "4"
                                }
                            ]
                        },
                        "text/html": "<table><tr><th>s#</th><th>c#</th><th>p#</th><th>sr#</th><th>date</th><th>amount</th></tr><tr><td>1</td><td>100</td><td>10</td><td>1</td><td>1401-02-01</td><td>4</td></tr><tr><td>2</td><td>100</td><td>40</td><td>4</td><td>1401-02-01</td><td>1</td></tr><tr><td>3</td><td>200</td><td>40</td><td>4</td><td>1401-02-01</td><td>10</td></tr><tr><td>4</td><td>100</td><td>50</td><td>4</td><td>1401-02-01</td><td>4</td></tr><tr><td>5</td><td>100</td><td>40</td><td>3</td><td>1401-02-01</td><td>1</td></tr><tr><td>6</td><td>200</td><td>40</td><td>3</td><td>1401-02-01</td><td>10</td></tr><tr><td>7</td><td>100</td><td>50</td><td>3</td><td>1401-02-01</td><td>4</td></tr></table>"
                    },
                    "metadata": {}
                },
                {
                    "output_type": "execute_result",
                    "execution_count": 49,
                    "data": {
                        "application/vnd.dataresource+json": {
                            "schema": {
                                "fields": [
                                    {
                                        "name": "c#"
                                    },
                                    {
                                        "name": "c_name"
                                    },
                                    {
                                        "name": "c_city"
                                    },
                                    {
                                        "name": "c_street"
                                    }
                                ]
                            },
                            "data": [
                                {
                                    "0": "100",
                                    "1": "Ali",
                                    "2": "Tehran",
                                    "3": "engelab"
                                },
                                {
                                    "0": "200",
                                    "1": "Parham",
                                    "2": "Qom",
                                    "3": "azadi"
                                }
                            ]
                        },
                        "text/html": "<table><tr><th>c#</th><th>c_name</th><th>c_city</th><th>c_street</th></tr><tr><td>100</td><td>Ali</td><td>Tehran</td><td>engelab</td></tr><tr><td>200</td><td>Parham</td><td>Qom</td><td>azadi</td></tr></table>"
                    },
                    "metadata": {}
                },
                {
                    "output_type": "execute_result",
                    "execution_count": 49,
                    "data": {
                        "application/vnd.dataresource+json": {
                            "schema": {
                                "fields": [
                                    {
                                        "name": "p#"
                                    },
                                    {
                                        "name": "p_name"
                                    },
                                    {
                                        "name": "price"
                                    },
                                    {
                                        "name": "status"
                                    }
                                ]
                            },
                            "data": [
                                {
                                    "0": "10",
                                    "1": "ketab",
                                    "2": "1500",
                                    "3": "available"
                                },
                                {
                                    "0": "20",
                                    "1": "qalam",
                                    "2": "2500",
                                    "3": "available"
                                },
                                {
                                    "0": "30",
                                    "1": "monitor",
                                    "2": "4000",
                                    "3": "available"
                                },
                                {
                                    "0": "40",
                                    "1": "LCD",
                                    "2": "5000",
                                    "3": "not available"
                                },
                                {
                                    "0": "50",
                                    "1": "TV",
                                    "2": "10000",
                                    "3": "not available"
                                }
                            ]
                        },
                        "text/html": "<table><tr><th>p#</th><th>p_name</th><th>price</th><th>status</th></tr><tr><td>10</td><td>ketab</td><td>1500</td><td>available</td></tr><tr><td>20</td><td>qalam</td><td>2500</td><td>available</td></tr><tr><td>30</td><td>monitor</td><td>4000</td><td>available</td></tr><tr><td>40</td><td>LCD</td><td>5000</td><td>not available</td></tr><tr><td>50</td><td>TV</td><td>10000</td><td>not available</td></tr></table>"
                    },
                    "metadata": {}
                },
                {
                    "output_type": "execute_result",
                    "execution_count": 49,
                    "data": {
                        "application/vnd.dataresource+json": {
                            "schema": {
                                "fields": [
                                    {
                                        "name": "sr#"
                                    },
                                    {
                                        "name": "sr_name"
                                    },
                                    {
                                        "name": "sr_city"
                                    }
                                ]
                            },
                            "data": [
                                {
                                    "0": "1",
                                    "1": "A",
                                    "2": "Tehran"
                                },
                                {
                                    "0": "2",
                                    "1": "B",
                                    "2": "Mashad"
                                },
                                {
                                    "0": "3",
                                    "1": "LG",
                                    "2": "England"
                                },
                                {
                                    "0": "4",
                                    "1": "SONY",
                                    "2": "Tokyo"
                                }
                            ]
                        },
                        "text/html": "<table><tr><th>sr#</th><th>sr_name</th><th>sr_city</th></tr><tr><td>1</td><td>A</td><td>Tehran</td></tr><tr><td>2</td><td>B</td><td>Mashad</td></tr><tr><td>3</td><td>LG</td><td>England</td></tr><tr><td>4</td><td>SONY</td><td>Tokyo</td></tr></table>"
                    },
                    "metadata": {}
                }
            ],
            "execution_count": 49
        },
        {
            "cell_type": "code",
            "source": [
                "UPDATE Product\n",
                "SET [status] = 'not available'\n",
                "FROM Product INNER JOIN Sales ON Product.p# = Sales.p#\n",
                "WHERE Sales.sr# IN (\n",
                "    SELECT sr#\n",
                "    FROM Supplier\n",
                "    WHERE sr_name = 'LG'\n",
                ")"
            ],
            "metadata": {
                "language": "sql",
                "azdata_cell_guid": "c8cba2ab-8ea6-47cc-84f8-7833d7b73c5b",
                "tags": []
            },
            "outputs": [
                {
                    "output_type": "display_data",
                    "data": {
                        "text/html": "(2 rows affected)"
                    },
                    "metadata": {}
                },
                {
                    "output_type": "display_data",
                    "data": {
                        "text/html": "Total execution time: 00:00:00.007"
                    },
                    "metadata": {}
                }
            ],
            "execution_count": 48
        },
        {
            "cell_type": "code",
            "source": [
                "SELECT *\n",
                "FROM Sales\n",
                "WHERE Sales.sr# IN (\n",
                "    SELECT sr#\n",
                "    FROM Supplier\n",
                "    WHERE sr_name = 'LG'\n",
                ")"
            ],
            "metadata": {
                "language": "sql",
                "azdata_cell_guid": "12bf2af9-1904-411f-8885-63e55c10ea2d",
                "tags": []
            },
            "outputs": [
                {
                    "output_type": "display_data",
                    "data": {
                        "text/html": "(3 rows affected)"
                    },
                    "metadata": {}
                },
                {
                    "output_type": "display_data",
                    "data": {
                        "text/html": "Total execution time: 00:00:00.023"
                    },
                    "metadata": {}
                },
                {
                    "output_type": "execute_result",
                    "execution_count": 47,
                    "data": {
                        "application/vnd.dataresource+json": {
                            "schema": {
                                "fields": [
                                    {
                                        "name": "s#"
                                    },
                                    {
                                        "name": "c#"
                                    },
                                    {
                                        "name": "p#"
                                    },
                                    {
                                        "name": "sr#"
                                    },
                                    {
                                        "name": "date"
                                    },
                                    {
                                        "name": "amount"
                                    }
                                ]
                            },
                            "data": [
                                {
                                    "0": "5",
                                    "1": "100",
                                    "2": "40",
                                    "3": "3",
                                    "4": "1401-02-01",
                                    "5": "1"
                                },
                                {
                                    "0": "6",
                                    "1": "200",
                                    "2": "40",
                                    "3": "3",
                                    "4": "1401-02-01",
                                    "5": "10"
                                },
                                {
                                    "0": "7",
                                    "1": "100",
                                    "2": "50",
                                    "3": "3",
                                    "4": "1401-02-01",
                                    "5": "4"
                                }
                            ]
                        },
                        "text/html": "<table><tr><th>s#</th><th>c#</th><th>p#</th><th>sr#</th><th>date</th><th>amount</th></tr><tr><td>5</td><td>100</td><td>40</td><td>3</td><td>1401-02-01</td><td>1</td></tr><tr><td>6</td><td>200</td><td>40</td><td>3</td><td>1401-02-01</td><td>10</td></tr><tr><td>7</td><td>100</td><td>50</td><td>3</td><td>1401-02-01</td><td>4</td></tr></table>"
                    },
                    "metadata": {}
                }
            ],
            "execution_count": 47
        }
    ]
}